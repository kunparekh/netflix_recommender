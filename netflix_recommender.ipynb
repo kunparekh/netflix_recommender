{
 "cells": [
  {
   "cell_type": "markdown",
   "metadata": {},
   "source": [
    "# Content Based Recommender \n",
    "\n",
    "This notebook builds a recommender based on the director, cast, genre, and description of the content to find other similar content."
   ]
  },
  {
   "cell_type": "code",
   "execution_count": 1,
   "metadata": {},
   "outputs": [],
   "source": [
    "import pandas as pd\n",
    "import numpy as np\n",
    "from rake_nltk import Rake\n",
    "from sklearn.metrics.pairwise import cosine_similarity\n",
    "from sklearn.feature_extraction.text import CountVectorizer"
   ]
  },
  {
   "cell_type": "code",
   "execution_count": 95,
   "metadata": {},
   "outputs": [
    {
     "data": {
      "text/html": [
       "<div>\n",
       "<style scoped>\n",
       "    .dataframe tbody tr th:only-of-type {\n",
       "        vertical-align: middle;\n",
       "    }\n",
       "\n",
       "    .dataframe tbody tr th {\n",
       "        vertical-align: top;\n",
       "    }\n",
       "\n",
       "    .dataframe thead th {\n",
       "        text-align: right;\n",
       "    }\n",
       "</style>\n",
       "<table border=\"1\" class=\"dataframe\">\n",
       "  <thead>\n",
       "    <tr style=\"text-align: right;\">\n",
       "      <th></th>\n",
       "      <th>title</th>\n",
       "      <th>director</th>\n",
       "      <th>cast</th>\n",
       "      <th>listed_in</th>\n",
       "      <th>description</th>\n",
       "    </tr>\n",
       "  </thead>\n",
       "  <tbody>\n",
       "    <tr>\n",
       "      <th>0</th>\n",
       "      <td>Chocolate</td>\n",
       "      <td>NaN</td>\n",
       "      <td>Ha Ji-won, Yoon Kye-sang, Jang Seung-jo, Kang ...</td>\n",
       "      <td>International TV Shows, Korean TV Shows, Roman...</td>\n",
       "      <td>Brought together by meaningful meals in the pa...</td>\n",
       "    </tr>\n",
       "    <tr>\n",
       "      <th>1</th>\n",
       "      <td>Guatemala: Heart of the Mayan World</td>\n",
       "      <td>Luis Ara, Ignacio Jaunsolo</td>\n",
       "      <td>Christian Morales</td>\n",
       "      <td>Documentaries, International Movies</td>\n",
       "      <td>From Sierra de las Minas to Esquipulas, explor...</td>\n",
       "    </tr>\n",
       "  </tbody>\n",
       "</table>\n",
       "</div>"
      ],
      "text/plain": [
       "                                 title                    director  \\\n",
       "0                            Chocolate                         NaN   \n",
       "1  Guatemala: Heart of the Mayan World  Luis Ara, Ignacio Jaunsolo   \n",
       "\n",
       "                                                cast  \\\n",
       "0  Ha Ji-won, Yoon Kye-sang, Jang Seung-jo, Kang ...   \n",
       "1                                  Christian Morales   \n",
       "\n",
       "                                           listed_in  \\\n",
       "0  International TV Shows, Korean TV Shows, Roman...   \n",
       "1                Documentaries, International Movies   \n",
       "\n",
       "                                         description  \n",
       "0  Brought together by meaningful meals in the pa...  \n",
       "1  From Sierra de las Minas to Esquipulas, explor...  "
      ]
     },
     "execution_count": 95,
     "metadata": {},
     "output_type": "execute_result"
    }
   ],
   "source": [
    "df = pd.read_csv('C:/Users/kparekh/netflix_titles_nov_2019.csv')\n",
    "#df = pd.read_csv('.../netflix_titles_nov_2019.csv')\n",
    "df = df[['title','director','cast','listed_in','description']]\n",
    "df.head(n=2)"
   ]
  },
  {
   "cell_type": "code",
   "execution_count": 96,
   "metadata": {},
   "outputs": [
    {
     "data": {
      "text/plain": [
       "title             0\n",
       "director       1901\n",
       "cast            556\n",
       "listed_in         0\n",
       "description       0\n",
       "dtype: int64"
      ]
     },
     "execution_count": 96,
     "metadata": {},
     "output_type": "execute_result"
    }
   ],
   "source": [
    "df.isnull().sum()"
   ]
  },
  {
   "cell_type": "code",
   "execution_count": 97,
   "metadata": {},
   "outputs": [
    {
     "data": {
      "text/html": [
       "<div>\n",
       "<style scoped>\n",
       "    .dataframe tbody tr th:only-of-type {\n",
       "        vertical-align: middle;\n",
       "    }\n",
       "\n",
       "    .dataframe tbody tr th {\n",
       "        vertical-align: top;\n",
       "    }\n",
       "\n",
       "    .dataframe thead th {\n",
       "        text-align: right;\n",
       "    }\n",
       "</style>\n",
       "<table border=\"1\" class=\"dataframe\">\n",
       "  <thead>\n",
       "    <tr style=\"text-align: right;\">\n",
       "      <th></th>\n",
       "      <th>director</th>\n",
       "      <th>cast</th>\n",
       "      <th>listed_in</th>\n",
       "      <th>description_keywords</th>\n",
       "      <th>bagofwords</th>\n",
       "    </tr>\n",
       "    <tr>\n",
       "      <th>title</th>\n",
       "      <th></th>\n",
       "      <th></th>\n",
       "      <th></th>\n",
       "      <th></th>\n",
       "      <th></th>\n",
       "    </tr>\n",
       "  </thead>\n",
       "  <tbody>\n",
       "    <tr>\n",
       "      <th>Chocolate</th>\n",
       "      <td></td>\n",
       "      <td>HaJi-won,YoonKye-sang,JangSeung-jo,KangBu-ja,L...</td>\n",
       "      <td>InternationalTVShows,KoreanTVShows,RomanticTVS...</td>\n",
       "      <td>reacquainted,hospice,ward,present,meaningful,m...</td>\n",
       "      <td>reacquainted hospice ward present meaningful m...</td>\n",
       "    </tr>\n",
       "    <tr>\n",
       "      <th>Guatemala: Heart of the Mayan World</th>\n",
       "      <td>LuisAra,IgnacioJaunsolo</td>\n",
       "      <td>ChristianMorales</td>\n",
       "      <td>Documentaries,InternationalMovies</td>\n",
       "      <td>cultural,natural,wonders,esquipulas,including,...</td>\n",
       "      <td>cultural natural wonders esquipulas including ...</td>\n",
       "    </tr>\n",
       "  </tbody>\n",
       "</table>\n",
       "</div>"
      ],
      "text/plain": [
       "                                                    director  \\\n",
       "title                                                          \n",
       "Chocolate                                                      \n",
       "Guatemala: Heart of the Mayan World  LuisAra,IgnacioJaunsolo   \n",
       "\n",
       "                                                                                  cast  \\\n",
       "title                                                                                    \n",
       "Chocolate                            HaJi-won,YoonKye-sang,JangSeung-jo,KangBu-ja,L...   \n",
       "Guatemala: Heart of the Mayan World                                   ChristianMorales   \n",
       "\n",
       "                                                                             listed_in  \\\n",
       "title                                                                                    \n",
       "Chocolate                            InternationalTVShows,KoreanTVShows,RomanticTVS...   \n",
       "Guatemala: Heart of the Mayan World                  Documentaries,InternationalMovies   \n",
       "\n",
       "                                                                  description_keywords  \\\n",
       "title                                                                                    \n",
       "Chocolate                            reacquainted,hospice,ward,present,meaningful,m...   \n",
       "Guatemala: Heart of the Mayan World  cultural,natural,wonders,esquipulas,including,...   \n",
       "\n",
       "                                                                            bagofwords  \n",
       "title                                                                                   \n",
       "Chocolate                            reacquainted hospice ward present meaningful m...  \n",
       "Guatemala: Heart of the Mayan World  cultural natural wonders esquipulas including ...  "
      ]
     },
     "execution_count": 97,
     "metadata": {},
     "output_type": "execute_result"
    }
   ],
   "source": [
    "#extract keywords from description\n",
    "df['description_keywords'] = ''\n",
    "for index, row in df.iterrows():\n",
    "    r = Rake()\n",
    "    r.extract_keywords_from_text(row['description'])\n",
    "    keywords_dict_scores = r.get_word_degrees()\n",
    "    row['description_keywords'] = ','.join(keywords_dict_scores.keys())\n",
    "df = df.drop('description', 1)\n",
    "\n",
    "#null values and remoce spaces\n",
    "for col in df.columns:\n",
    "    if col in ['director', 'cast']:\n",
    "        df[col] = df[col].fillna('')\n",
    "    if col in ['director', 'cast', 'listed_in']:\n",
    "        df[col] = df[col].str.replace(' ','')\n",
    "\n",
    "df.set_index('title', inplace = True)\n",
    "\n",
    "df['bagofwords'] = df.description_keywords+','+df.listed_in+','+df.cast+','+df.director\n",
    "df['bagofwords'] = df.bagofwords.str.replace(',',' ')\n",
    "\n",
    "df.head(n=2)"
   ]
  },
  {
   "cell_type": "code",
   "execution_count": 98,
   "metadata": {
    "scrolled": true
   },
   "outputs": [
    {
     "data": {
      "text/plain": [
       "director                0\n",
       "cast                    0\n",
       "listed_in               0\n",
       "description_keywords    0\n",
       "bagofwords              0\n",
       "dtype: int64"
      ]
     },
     "execution_count": 98,
     "metadata": {},
     "output_type": "execute_result"
    }
   ],
   "source": [
    "df.isnull().sum()"
   ]
  },
  {
   "cell_type": "code",
   "execution_count": 99,
   "metadata": {},
   "outputs": [],
   "source": [
    "#tokenize text and build a vocabulary\n",
    "count = CountVectorizer()\n",
    "count_matrix = count.fit_transform(df['bagofwords'])\n",
    "\n",
    "indices = pd.Series(df.index)\n",
    "\n",
    "#compute cosine similarity\n",
    "cosine_sim = cosine_similarity(count_matrix, count_matrix)"
   ]
  },
  {
   "cell_type": "code",
   "execution_count": 100,
   "metadata": {},
   "outputs": [
    {
     "data": {
      "text/plain": [
       "['Rocky III',\n",
       " 'Rocky II',\n",
       " 'Rocky IV',\n",
       " 'Rocky V',\n",
       " 'Abdo Mota',\n",
       " 'Defiance',\n",
       " 'Submission',\n",
       " 'The Bleeder',\n",
       " 'Rangoon',\n",
       " \"Logan's Run\"]"
      ]
     },
     "execution_count": 100,
     "metadata": {},
     "output_type": "execute_result"
    }
   ],
   "source": [
    "#recommend the top 10 choices based on similarity\n",
    "def recommendations(Title, cosine_sim = cosine_sim):\n",
    "    recommended_movies = []\n",
    "    idx = indices[indices == Title].index[0]\n",
    "    score_series = pd.Series(cosine_sim[idx]).sort_values(ascending = False)\n",
    "    top_10_indexes = list(score_series.iloc[1:11].index)\n",
    "    for i in top_10_indexes:\n",
    "        recommended_movies.append(list(df.index)[i])\n",
    "    return recommended_movies\n",
    "\n",
    "recommendations('Rocky')"
   ]
  },
  {
   "cell_type": "code",
   "execution_count": 101,
   "metadata": {},
   "outputs": [
    {
     "data": {
      "text/plain": [
       "['MINDHUNTER',\n",
       " 'Criminal Minds',\n",
       " 'How to Get Away with Murder',\n",
       " 'Manhunt',\n",
       " 'Re:Mind',\n",
       " 'Persona',\n",
       " 'The Sinner',\n",
       " 'Unit 42',\n",
       " 'Brotherhood',\n",
       " 'Secret City']"
      ]
     },
     "execution_count": 101,
     "metadata": {},
     "output_type": "execute_result"
    }
   ],
   "source": [
    "recommendations('NCIS')"
   ]
  },
  {
   "cell_type": "code",
   "execution_count": 102,
   "metadata": {},
   "outputs": [
    {
     "data": {
      "text/plain": [
       "['English Babu Desi Mem',\n",
       " 'Lagaan',\n",
       " 'Pimpal',\n",
       " 'Janaan',\n",
       " 'Pahuna',\n",
       " 'Luv Shuv Tey Chicken Khurana',\n",
       " 'Jodhaa Akbar',\n",
       " 'Tanu Weds Manu',\n",
       " 'Haapus',\n",
       " \"What's Your Raashee?\"]"
      ]
     },
     "execution_count": 102,
     "metadata": {},
     "output_type": "execute_result"
    }
   ],
   "source": [
    "recommendations('Swades')"
   ]
  }
 ],
 "metadata": {
  "kernelspec": {
   "display_name": "Python 3",
   "language": "python",
   "name": "python3"
  },
  "language_info": {
   "codemirror_mode": {
    "name": "ipython",
    "version": 3
   },
   "file_extension": ".py",
   "mimetype": "text/x-python",
   "name": "python",
   "nbconvert_exporter": "python",
   "pygments_lexer": "ipython3",
   "version": "3.7.3"
  }
 },
 "nbformat": 4,
 "nbformat_minor": 2
}
